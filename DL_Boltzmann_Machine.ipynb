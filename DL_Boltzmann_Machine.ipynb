{
  "nbformat": 4,
  "nbformat_minor": 0,
  "metadata": {
    "colab": {
      "provenance": []
    },
    "kernelspec": {
      "name": "python3",
      "display_name": "Python 3"
    },
    "language_info": {
      "name": "python"
    }
  },
  "cells": [
    {
      "cell_type": "markdown",
      "source": [
        "A Boltzmann Machine is a type of stochastic neural network used for unsupervised learning, and it learns by adjusting the weights between neurons to minimize the energy function.\n",
        "Below is an example code for an Unrestricted Boltzmann Machine (without hidden units):"
      ],
      "metadata": {
        "id": "Pce1HhkfT_Nj"
      }
    },
    {
      "cell_type": "code",
      "execution_count": 1,
      "metadata": {
        "id": "YpMN_MWDTTEY",
        "colab": {
          "base_uri": "https://localhost:8080/"
        },
        "outputId": "f861585a-17c4-4388-fb57-ef2635559f98"
      },
      "outputs": [
        {
          "output_type": "stream",
          "name": "stdout",
          "text": [
            "Epoch 0/1000\n",
            "Epoch 100/1000\n",
            "Epoch 200/1000\n",
            "Epoch 300/1000\n",
            "Epoch 400/1000\n",
            "Epoch 500/1000\n",
            "Epoch 600/1000\n",
            "Epoch 700/1000\n",
            "Epoch 800/1000\n",
            "Epoch 900/1000\n",
            "Generated Sample: [1 1 1 0]\n"
          ]
        }
      ],
      "source": [
        "import numpy as np\n",
        "\n",
        "class BoltzmannMachine:\n",
        "    def __init__(self, num_units, learning_rate=0.1):\n",
        "        # Initialize weights randomly between [-0.1, 0.1]\n",
        "        self.num_units = num_units\n",
        "        self.weights = np.random.uniform(-0.1, 0.1, (num_units, num_units))\n",
        "        np.fill_diagonal(self.weights, 0)  # No self-connections\n",
        "        self.learning_rate = learning_rate\n",
        "\n",
        "    def energy(self, state):\n",
        "        \"\"\"Compute the energy of the given state\"\"\"\n",
        "        return -0.5 * np.dot(state.T, np.dot(self.weights, state))\n",
        "\n",
        "    def prob(self, state, idx):\n",
        "        \"\"\"Compute the activation probability of a given unit\"\"\"\n",
        "        activation = np.dot(self.weights[idx], state)\n",
        "        return 1.0 / (1 + np.exp(-activation))\n",
        "\n",
        "    def sample(self, state):\n",
        "        \"\"\"Perform Gibbs Sampling to update the state\"\"\"\n",
        "        new_state = np.copy(state)\n",
        "        for i in range(self.num_units):\n",
        "            p = self.prob(new_state, i)\n",
        "            new_state[i] = 1 if np.random.rand() < p else 0\n",
        "        return new_state\n",
        "\n",
        "    def train(self, data, num_epochs=1000):\n",
        "        num_samples = data.shape[0]\n",
        "\n",
        "        for epoch in range(num_epochs):\n",
        "            for sample in data:\n",
        "                # Positive phase: Clamp the data and sample\n",
        "                pos_state = sample.copy()\n",
        "\n",
        "                # Negative phase: Gibbs sampling\n",
        "                neg_state = self.sample(pos_state)\n",
        "\n",
        "                # Update weights\n",
        "                self.weights += self.learning_rate * (np.outer(pos_state, pos_state) - np.outer(neg_state, neg_state))\n",
        "\n",
        "            if epoch % 100 == 0:\n",
        "                print(f'Epoch {epoch}/{num_epochs}')\n",
        "\n",
        "    def generate_sample(self, num_steps=100):\n",
        "        \"\"\"Generate a sample from the trained Boltzmann Machine\"\"\"\n",
        "        state = np.random.randint(0, 2, self.num_units)\n",
        "        for step in range(num_steps):\n",
        "            state = self.sample(state)\n",
        "        return state\n",
        "\n",
        "# Example usage:\n",
        "if __name__ == \"__main__\":\n",
        "    # Binary training data: 5 samples, 4 units\n",
        "    training_data = np.array([[0, 1, 0, 1],\n",
        "                              [1, 1, 1, 0],\n",
        "                              [1, 0, 1, 0],\n",
        "                              [0, 1, 1, 1],\n",
        "                              [1, 0, 0, 1]])\n",
        "\n",
        "    # Initialize and train Boltzmann Machine\n",
        "    bm = BoltzmannMachine(num_units=4)\n",
        "    bm.train(training_data, num_epochs=1000)\n",
        "\n",
        "    # Generate a sample after training\n",
        "    generated_sample = bm.generate_sample()\n",
        "    print(\"Generated Sample:\", generated_sample)\n"
      ]
    },
    {
      "cell_type": "markdown",
      "source": [
        "# Constructor of BM Class\n",
        "def __init__(self, num_units, learning_rate=0.1):\n",
        "\n",
        "This is the constructor method for the class BoltzmannMachine. It is called when an instance of the class is created. It takes two arguments:\n",
        "num_units: The number of units (or neurons) in the Boltzmann Machine.\n",
        "learning_rate: The rate at which the model updates the weights during training (default is 0.1).\n",
        "self.num_units = num_units\n",
        "\n",
        "The instance variable self.num_units stores the number of units (or neurons) in the Boltzmann Machine.\n",
        "This value will be used throughout the class, particularly for managing the size of the network and other related operations.\n",
        "self.weights = np.random.uniform(-0.1, 0.1, (num_units, num_units))\n",
        "\n",
        "This line initializes the weight matrix self.weights, which stores the connection strengths (weights) between each pair of units in the Boltzmann Machine.\n",
        "The weights are initialized randomly between -0.1 and 0.1 using np.random.uniform. This means the weights are real numbers sampled from a uniform distribution in this range.\n",
        "The shape of the weight matrix is (num_units, num_units), meaning it's a square matrix where each element self.weights[i, j] represents the weight between unit i and unit j.\n",
        "np.fill_diagonal(self.weights, 0)\n",
        "\n",
        "This ensures that there are no \"self-connections\" in the Boltzmann Machine. In other words, the weight of a unit to itself (the diagonal elements of the weight matrix) is set to 0.\n",
        "np.fill_diagonal sets all diagonal elements in the weights matrix to 0, effectively ensuring that no unit can influence itself.\n",
        "self.learning_rate = learning_rate\n",
        "\n",
        "This sets the instance variable self.learning_rate to the value passed as an argument or to the default value of 0.1 if no argument is provided.\n",
        "The learning rate controls how fast the weights are adjusted during training. A smaller learning rate means smaller updates to the weights, while a larger learning rate results in larger updates.\n",
        "\n",
        "# Energy Function of BM\n",
        "\n",
        "def energy(self, state):\n",
        "\n",
        "This method calculates the energy of a given state for the Boltzmann Machine.\n",
        "The energy function is a measure of how stable or likely a particular configuration (state) of the network is. In Boltzmann Machines, lower energy corresponds to more stable configurations.\n",
        "The argument state is a binary vector (array) representing the current state of all the units (neurons) in the network. Each element in state can either be 0 or 1, indicating the active or inactive state of the corresponding unit.\n",
        "return -0.5 * np.dot(state.T, np.dot(self.weights, state))\n",
        "\n",
        "This line computes the energy of the network in the given state.\n",
        "The energy function for a Boltzmann Machine is defined as:\n",
        "![image.png](data:image/png;base64,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)\n",
        "\n",
        "\n",
        "where:\n",
        "𝑊𝑖𝑗: is the weight between units i and 𝑗,\n",
        "𝑠𝑖 and 𝑠𝑗 are the states (0 or 1) of units i and j.\n",
        "np.dot(self.weights, state): This computes the matrix multiplication of the weight matrix self.weights with the state vector state. This step essentially computes the weighted sum of the state vector with the connection strengths (weights) between units.\n",
        "np.dot(state.T, ...): This computes the dot product of the transpose of the state vector (which is just the original state in this case since it's a 1D array) with the result of the matrix multiplication from the previous step.\n",
        "The factor -0.5 is included to account for the symmetry in the weight matrix and ensure the correct energy computation, as each weight is counted twice in a full energy expression.\n",
        "\n",
        "# Activation Probability Calculation\n",
        "\n",
        "def prob(self, state, idx):\n",
        "\n",
        "This method computes the activation probability of a particular unit (neuron) in the Boltzmann Machine, given the current state of the network.\n",
        "The unit whose activation probability is being calculated is identified by the index idx, and state is the current binary vector representing the state of all units in the network.\n",
        "activation = np.dot(self.weights[idx], state)\n",
        "\n",
        "self.weights[idx] refers to the weights connecting the unit at index idx to all other units. This gives a row (or vector) from the weight matrix corresponding to the selected unit.\n",
        "np.dot(self.weights[idx], state) computes the weighted sum of the states of all the units that are connected to the unit at index idx. This weighted sum represents the influence of the other units on the unit idx:\n",
        "![image.png](data:image/png;base64,iVBORw0KGgoAAAANSUhEUgAAAPoAAABKCAYAAACSJklIAAAAAXNSR0IArs4c6QAAAARnQU1BAACxjwv8YQUAAAAJcEhZcwAADsMAAA7DAcdvqGQAABFASURBVHhe7Z0HkBRFFEAbMGdFVMyJUlEpc8SACTGgCBjLhGJAEbMoKsGAgTJhwFAGsAyIgWBWQAVURAUDgopiQMwYEEWUsd+n+5ybm9nb293Zvb39r2rrbntnZ3q6+3f/1LONAotRFKVB09j9VRSlAaOCrigVgAq6olQAKuiKUgGooCtKBaCCrigVgAq6olQAKuiKUgGooCtKBaCCrigVgAq6olQAKuiKUgGooCtKBaCCrigVgG5TVfJi8uTJpk+fPu5dcdh8881Nr169zDLLLONKlNpQQVfy4ssvvzQnn3yyeeONN1yJMaeeeqpp3769e1d3vv32W/PFF1+YqVOnmilTpphPPvnEfbKINdZYwzz88MNm2223dSVKbaigK3kzbtw4Ee6vvvpK3m+33XbmjjvuMJtssom8zweG5/fff2/GjBlj7r//fjNhwgQpv+iii0zPnj1NkyZN5L2SmSZW7Squ3qU0ONZcc03zzz//mLFjx8r7b775xvz444+mTZs2ZqmllpKyXGnUqJFZbrnlzBZbbGE6d+5sNt10U/PRRx/JNfbaay+z0koruSOVTKgzTsmbxRZbTNT3o446ypUY8+STT5r77rtPJoBCseSSS4qwDx061KywwgrmlVdecZ8otaGCrhSE5Zdf3px77rmitntQ38ePH+/eFY6NNtrIXHvttWbSpEnml19+caVKJtRGVwrKsGHDzFlnnWXmzp0r7xH8u+++W4SzkDBshwwZYpo2bWoOPPBAV1qd3377zXzwwQfm33//dSWLQAPZcsstxSTArzBz5kz3yf9gcrRq1Uq0CLQSzvP777+7TxeBD2K11VZz7+o5CHp95f333w922WWXoGPHjoHtEFdavyiHOhaTBQsWBHa1DewKX/WyK33wxx9/uCOKx4QJE4JDDjkk2GabbaQezZs3D9q2bRucdNJJVX31yCOPBO3btw9atmwpx6y77rqBnTiCG2+8Mfjrr7/kGDthyD34Y/hLf0+ePFk+LwdKKujvvvtuMGjQIPeuJo8++mjVYHn99dddaXEphzrWN7777rvgyCOPrGoXXtZeDxYuXOiOKC6+j4499tjg119/daX/Y1fsoE+fPnLMNddc40prMm7cOLmvWbNmuZLyoaQ2up3lM9pYeFVPOeUUSY5AjSoF5VDH+gbq7IUXXmjWWWcdV2LM9ddfn4q9ng3NmjWTv6jecc5BQnQ+OmAnIzELovC91157Te6LKEO5UVJBJ6sqE6uuuqoZMGCAxExLlQVVDnWsj2y11VaSMYcdDNjCt912m8TEi83SSy/t/ouHUB1CDFYbMVZll//DWBNN/mLblyMlE3Qa99lnn3Xv6iflUMf6CvFvnGThkNvTTz9tbr75ZjN//nxXUhxYrcmmY5L56aefXOkiWL1Hjhxp/vzzT1dSEz4bPny4hPZw5JUjGRNm6BBrd5qHHnrI3HLLLebNN9808+bNM+utt55ZfPHF3VHVQfUhoeHee++VTo1+BxXos88+M3379hUhwhvLrE8qpbWfZIVs3LixrADvvfeevJ555hlRB1dZZRWp09dffy3XoQN40YF4VllR+R6qNp+TOsn/nBOox+jRo80DDzwg9/Phhx/KgEQVC3dgvnUME26P22+/3Xz88cfiyW3evLlcG6g7Xl0+IzZMvTfeeGPz888/y/Wff/55SQtde+215bvlAv3NCkj7kNIKpLVuuOGGpmXLllX3nzao7C+++KL8f+ihh4qn3vPpp5/Kar7HHnuY5557TvrwgAMOqJbo88ILL8j7Pffcs+B1ZnzQ7+QdvPrqq6JNRMdjQRBLPQYcFP379xcPox18gZ0JA1uh4MQTTwz23Xdf+T8KnlUrHOKFtgM/+OGHH8SZ1bp16+C4444L5syZE3z++efB8ccfH1jbVpwfeETxjPK64oorAiu4cq5Ro0aJhxRPKcd5RxfnOPPMM+WclHtPKteBESNGiOfUn9s70qhb9+7d5dgpU6bI/UyaNEmuS91wIHnyraPHDrCgd+/e0mZ457km1z766KOlnbwnmvNxXn9P1BNvMMdYuzawwi6eYBxB4XqWC1aQqjzWvBgf06ZNc5+mD2OVa7Zo0aJqnABeddr4nXfeEUcbdbMTgfSTxy4iQc+ePeVvobELT3D11VfL+GDs2EkwuO6664JevXpVefwLRaKgI1CdOnWSm8dr6Zk5c2bQpk2b4LTTTqsWMiGscsMNN0hjjh071pUGcgO+c8OTgy/P5OW0s500BMdFhWj27NkSFrGzb2BVbFe6CKuB1AjpzJgxI9htt91qnAthp85XXnmlTG5h8qkjHXXJJZeIgEa9tLynnEFGu3m4D+7HrngS3gl/5j3Hw4YNcyWZsZqP1NtPUHV9hUNQ+UK73nTTTVJ//2KyYyEoBgguAhztI4SbMUs7+74Ojyf61mp/MqGnAeelrRnLgMzR7tHJphAk2ugrrriiOeecc8RbimfZg2rDNkHUXtRJD+omKv5OO+1ktt56a1dqxBN96623mksvvdRssMEGrjQ7UJNQkePAk7rDDjuI2mVnaVe6SA22K7I5+OCDqznH7CpvLr74YqlL2DuOSbHZZpuJ0y2aEJENSXW0A0dSQHfddVdR08PwnvIHH3xQdmd5UMuXWGIJsSexb8PqG/UHVM1s4DwkrmAy5PKyAmDWWmstd7b8wKvdtWtXc8IJJ7gSI3bxkCFDYr3gaYKpB/Q15lbHjh2lnakj5hmmnk/2wTSbPn262X333eV9HH///bdEZpLgc3/NMKjomJHLLrtslZnAsVx/5513lvI4rMxK/VD560KioDOA7Sosu5KwSbkZbC0GsJ1tRKDCGUeU0ygIjZ0ZXakRYbOqsWnXrl1B7Q46Zv/99xehYDOFd/DgQMNmx+sbhmtTB+qCF5YGtSqbeeutt6TTGXB1bbwk6IyJEydKh2DfR+06PzkwUfqNIGGYTMN2ZK5wn/gMcnmRSx6tdz4wDs4444xqKbIsItilacOk50NsVouQv1yXzDYfAmRzTHghYjw88cQTsmCEx3MYBNNqgua8886LFXZ8Qj169DCXX355ogOSCe+www6TlF58T9ZkkxBeki8GH441JastbtmQ0etO5fA2IlD77LOP/I+DKA7fgAzgQg6QTNBROEjYwojzDGgAGiJuVxMNf88998gEZu1dmVEzzca5wmzNhJMJP6hYNeJm/IYI/YVQ+JDbyiuvLEKYNiwKYe2OscrWWib+6FgljMZCxl/6MTwxRcHZiObVvXv32BUYYT388MMlzyIquKziyBRtQM7+VVddJWOZMC3jNAna0JpB4sysC4mCzsWsjWlOP/10Y+0pWXkuu+wyuTFWnDRAI6CRs4UB07p1a/keKzN1Zqbefvvt3RH/wypv7R9jbV+J76K2nX/++WKWYKZkSzZ1ZPAwuDLhtSFW3dqOzRUmECbmXF7kiaOZFJq2bduKYNB39AMmTDFhQSCSwbjxqzwgcD46Q7uxmnu1Pgn6eccddxRTNg76la26LVq0cCXVYQEliQhzkoWHOrAvIE7L82D2ERWoLTcgSqKgjxo1Si7K9kMEPUmV8APfJxLMnj075xXqqaeeqvE0kdogLMKsSwiK1Rw1i/BNGAYsDy0gjovfYb/99ou1qxE+fA/eRosjmzoyW/s64C+Ig1AdYOqksaqhVhJC7NKlS04vdqLNmjXLna1wzJgxw7z00kuycnXo0KEo2h9C4f0kPAmHMYsAhmE8+DFx5513SiiTEGcSTISo3ZwrbkJEo2ODD2Ml+jltwCo/ePBgqRfm5F133SXaJsTJD9o1/ijChJlW/CQSBd0PUDb8h2c1LuIHKfiBj7pM4zFDcSNhuFGyojLNVJDNShiFhmJWRX1nhUDwo5NSWJXmfsKDi0mK1R4QDmwkJqsksq0jszUTEDujoh3DREIb4bhEXUsDJg+Eif7J5cWgY7AXEtqZPjrooIPEXi+kzyZbGKudOnWqpspD2I6nf7DNkyYhHqpB++Af6t27dw0HKTLAWMfRi1aM7R2G9mWcTZs2rZqfizqhmkfVcsYP8oMm7Z28dSVR0HFmoV5hy/iBirOK2ZjkB8q8E4sVjJu+4IILpJyVhFRCDwkjCBRecg8eXQQUBx+OMWZIzuedI8xqNCjlQONzXNRhRgehDgINxRNIojCj+8ZDtfeeXmZJVvk5c+bI9bjGggULqryg+dSRFb1bt27m5Zdflpnf15u/XBNTAycN3nQmQs6B7cg5efE/ZdQRVZrrAGX8zzHlBOMChxPJIDh4iy3kXoiPOOKI2DRWJm/GD2Oe6ECmfPa3337b7L333mKj0+d+vAAOVux7bHPGHT4gFpooqOpMdl6b4zyPP/64aM9RVZ/xghaKhsFY4dg6Y78YC7HFxx57TJJFSArxgX3KrHorSTN2NZX4qI/32kEsW/eIkZIgYTs06Nq1qySA2IErx3g4luQWzk9iip1Bg+HDh0s5hHeF+VdSfJH4I9ccOHBg1fej2IEWWFtIkmk6d+4s93PMMcdIzJ+EDurBZ9yfP0e+deQ43x58n5gpf3lPuT8PdevRo0eNc1E2evToGuW8wrkN9R070IMBAwaUNOGH9iL/w66+rqQ6dkKVxBirUsu21EzQX3axkPHGd/iuh//5HKyAxu6YQxbsIhC0a9cu6Nevn+R8kONhTeUaiTKMEbu4BHbll/NwPs5bVxIF3UPFGbi8km4oCpWjUnzHzj6uNB5//qRzZQvXCdcvCa7D9ZgcwgkplCd9vxB1pH7ZtEdDgzYmKYVJLknIioHVyiTL0E+ucVhtL+uMPatVBR06dJCJOA6uw2JiTZUaiVgePyaiYzGJ6dOny6JLlmVdqVXQFSVXGOxDhw4VLSZbASoXxowZU5XVRlZdNEU2n9U3iSQNIRsSbXRFyRecUsR8+/btK06mhgSbtcjHwK5nUwoJRmFwWOOE8xmN+YLTDr8OCVhJWXOZUEFXUoGUYjzSZ599diqxcrtISch0xIgRrqS4IHA4XgcNGiQpq9FID4JO1KJQgo5Tj0gNOSK55F2ooCsFh9gyGXB4uNOKlbOKEsKKS44qBiTT8AMSTGRRL7lffaPp4PnAxEF4MlNsPxMq6EpBCcfKSbxJI4xG2jCbpBCwtLI0a4PJC3Xdh8fmufAhaeKERkneYqXPZ5JjsiBkTTiVfRmkTeea26CCrhQMP9jTipUvXLhQEqOIQWP/E8vORY1NA+LnxLsRcrLcSFMlzTYfyPkgcY2foWJfBinb0USfbNHnuisFASHH6YaKyZOFCrnSYgsz2EnJJgEJyFwjW6y+/CQTYuQTw1h5SbbK12QhOYonD5GQgxlQ1/z2MCroSt6QaThw4EBJzSTtNh8HFCsj3mrSkdmrj70ft7egf//+klmmZIcKupIXDB82b7Dvem4uqZk5QKhu8ODBssop2aGCruQFGzNQ2YuZe8+2UJ6jn6u9WomooCtKBaBed0WpAFTQFaUCUEFXlApABV1RKgAVdEWpAFTQlXoB4TmSZJR0UEFXSg7ZcOSv8yOUSjpoHF0pOfPnz5eHjvIkYf9YZqWwqKArSgWgqrtSMlhj2LBCrnxtP2Gl5IcKulISEHJ+yIAfP2CrKU9rYVumkg4q6EpJYDMMXnZ+0YaHR/gfA1HSQQVdKQnrr79+1fPkpk6dKr+w439lVSk8KuhKSeBpKTxvjfg5qzvPf/PPX1MKjwq6UlJ48CHPRSO0pqSHCrpSUnDG4ZhbffXVXYmSBiroSknBPm/VqpVp2rSpK1HSQAVdKRk8Y44HQCLoap+niwq6UlSwyXlS7MSJE+WHGHg8NL/Fr6SLCrpSVHC8jRw5UgScTSzdunWT0JqSLprrrhQVkmL4UQJ+8IGQWrNmzdwnSpqooCtKBaCqu6JUACroitLgMeY/82gjD+fcX5IAAAAASUVORK5CYII=)\n",
        "\n",
        "Where:𝑊𝑖𝑗 is the weight between the unit at index i and the unit at index j,\n",
        "𝑠𝑗 is the state (either 0 or 1) of the unit 𝑗.\n",
        "This value, called activation, measures the total influence that other units in the network exert on the unit at index idx.\n",
        "\n",
        "return 1.0 / (1 + np.exp(-activation))\n",
        "\n",
        "This is the sigmoid function, which converts the weighted sum (activation) into a probability value between 0 and 1:\n",
        "![image.png](data:image/png;base64,iVBORw0KGgoAAAANSUhEUgAAAa0AAABRCAYAAABhcfnhAAAAAXNSR0IArs4c6QAAAARnQU1BAACxjwv8YQUAAAAJcEhZcwAADsMAAA7DAcdvqGQAABeCSURBVHhe7Z0HtNREG4bH316wN+wNCzZEbCggWNFDk6KiIkXUY0P0UBQVRcWC2LBgPYgVrKAi9t5QUQQRsGFFRUTsPf88QwZzc7fvXu7m7vuck7O72WQymSTfN1+ZyRKBxQghhBAJ4H/hpxBCCFH2SGkJIYRIDFJaQgghEoOUlhBCiMQgpSWEECIxSGkJIYRIDFJaQgghEoOUlhBCiMQgpSWEECIxSGkJIYRIDFJaQgghEoOUlhBCiMQgpSWEECIxSGkJIUQNwos0pkyZYnr27Gk+/vjjcK0oFCktIYQoMT///LN5/vnnzYgRI8yhhx5qmjVrZmbOnGn++eefcAtRKFJaQghRYn755Rfz3nvvmVVWWcWcdtppZu+99w7/EcUipSWEECVmnXXWMSeccILp1q2b2XLLLc2SSy4Z/iOKRUpLCCFEYpDSEkIIkRiktIQQQiQGKS0hhBCJQUpLCCFEYpDSEkIIkRiktIQQQiQGKS0hhBCJQUpLCCFEYpDSEkIIkRjKTmkx0eRZZ51lXnvttXCNeOutt8yVV14Z/hKVxHfffWcGDBhgPvroo3CNSAL//vuv+eGHH8z3339vvvrqK7NgwQLz66+/mnnz5rl1/Pf333+HW4t8WCJg3vwi+Pbbb93sxdnYeOONzXrrrWeWWmqpcE11uKjnnHOO2W233UynTp3MEkssEf5T2aDAmTEa4VWT8EBNnTrVfPDBB67zsNdee5lddtkl/FfUFjxf5557rlu22mqrcK0oZ1BMvXr1Mk8//XS4pirbb7+9GTVqlGnQoEG4RuRK0UoLYXrNNde4i/TGG2+YlVZayeywww5mueWWC7cw5vfffzfvvvuumzjyvPPOM82bN6+mkKjGyJEjzRdffOEU17LLLhv+U3fhnGmXq666ylmXm222WfhPVRaX0nrnnXdcPVBc8+fPNzfffLPp0qVL+K+oTR599FEzZswYc/nll5s111wzXCtE5VG0e7BFixbm3nvvdcIO9t13XzN27Fjz0EMPLVomTpxoXnjhBafImPn49ddfd9tGYRr/cePGmcMPP7xOK6zafs8OHYgrrrjCzJ49O1zzH40aNTKPPPKIGTx4cLgm2aCEb7jhhvBXacjUfjUJHb3ll1/ePWtF9jOFSDQli2lNnz7dfW6++eZmxRVXdN+jsB4F9/nnnzvl9Oeff4b/GOfbfeCBB5yFVtfN5dp+zw4Cb+7cueavv/4K11QHa7kuQFsTOyglubRfTVCvXj1z8MEHmwcffNA9Q0JUKiVRWr/99puZMWOG+04MJNW7Y3jIf/zxR/ed7aOWxSeffGIef/xx07p16zrvFqzt9+wQ2K+UV35jaZWa2my/nXbaySnN5557LlwjROVREqXFg4zSwpraaKONwrVV+emnnxYlbJCQEY15vf3222aFFVYwW2yxRbhG1AQIPALDldBTJ2PrscceC3+VhtpuP2JZ2267rZk8ebLr+AlRiSx5LilJRfL++++7ZIw99tgjbUwKxXTTTTeZ9ddf3/Tr189ZHICb8O6773b7tG/f3iyzzDJufTpIJZ01a5ZzkxAnI8aQLSuxXEHwjB8/3rmxOPc11lgj/KcqJKd8+umnLpsvDu1B+996663muuuuc21DW9avX79KsgtWLm7Ziy66yO1DB4Hkmc8++8y5A+k0eHBfUq+2bdu6bDUsFty3PtGGeqbK7Pzjjz/Miy++6O4FkgZI891www1dLAaI55G+/+GHH5oJEya4MpZeemlz//33m2nTppkNNthg0bbpwJU8adIkc8stt5hrr73WWensQ9x0m222cdtgCZHwg9KiI0WdOU/qg+D/3/8W9tVQQtTlvvvuc21H+3z99ddm3XXXNSuvvLLbxpNP+wGZsMQHr776apdEgaeBDFrO1xO9diTj8J1rh9eBpJxoxw7Yl9R32ni//fZzLmYhKo2SWFoIIgRSungWafEIMh66s88+2/UWPTzcCA6UWTaBhZC/5JJL3ELK6IEHHmjefPNNc/755zuBWWnQ5kOGDDGXXXaZi3fQxnwiAC+44ALXth46BnfddZf7/s033zhBOXz4cLeksxwQ4CRloBh23XVXdzwSbVAyCPwoXONjjz3W3H777eb44493SgMFinB9+eWX3TZY5GSInnTSSeaMM85wQv3MM890HQ+u6emnn+4s8nRw/Un4efbZZ83JJ59s7rnnHjc0AuVFFiZ1QsFz7ih54Nj+PFHE0VgUwp/zoVza8OKLL3b3UatWrZwii55jPu3HkAE6ITwXnB+xy4cfftit4z/APY6iJFHkiCOOcOfSu3dvp+BYUGip2HTTTV2ngmsjREViH8yisIIx6NOnT1CvXr3APtjBvHnzFi1WgLh1LVq0CNq0aRNMnjw5sA9juOdCbM8xaNasWWAFRrgmPVbIBe3atQvmzJnjfs+fPz/o1atXYIWBO14xTJ06NbAC0JVfyDJq1KiwpNyhztS9adOmgRXw4drqvPrqq9Xaxwr6wArEwCqp4MsvvwzXLoTfrLeKI7BCOlz737XKdjxrJbnr2bJly2DGjBnh2iCwSifo0KGDW/jusZZiYJVItbpwfbp27Rp069bNffe89NJLrvwmTZq4dp8yZUrQsGHDoHv37oG1aMKtqmOtdVenmTNnhmsWYi3BYMCAAe78PLQZx8h0X1lF5bahTfy+tGu/fv1c3aZPn+7WeXJpP6tM3H1kFXiVc5k9e7arO9eMY1gLLbAK07VFFJ4Zq/TT3s/+vKxiC9dkxiph1wap7tlcFp4vq5TD0oSofYpWWv7hq1+/fnDAAQdUueF5eHlgbI+zivCMwsOPEEBQZsL2hgPbY3VC0AtA2+MNOnbsGNheuhMEUVCOttee9rhxbM/XlesVbr4LwiFf2K9QpWWtDdfmQ4cOrdYR4DfrGzRoEFhLNFybv9KiXaNlp9t/4sSJaeuCYqAeKByPF7zW4nJlss+CBQsWKY50+P3uvPNOd7083AfWYqlyDXJRWghja51WqRtYi8rta62tcM1Ccmk/6sG+lBHF3788Kzwz/r6nftF7lw6AtRzTKm+UfKNGjbI+L1God/x+zXXhusSvqRC1SdHuQduzdu4KsgbvuOOOKuOzGFPCgNjGjRuXLOaEm+WQQw5x7iRcQbhV+vfvXy2OxgBZZtawPdlwTWaIc6y66qpm9dVXL2jJFosrJfa6ubiOd8nG40v85nxwIRWTabbJJptUKzsOdSExgLrgeqO9cbv5hZgl9SAxIo6PYXEMYkjZ3MPELnfffXfnfuR+w52IG497C9dkvteA45944olufBr1xKVInf0YrGiGay7gZuS+A2Jg0XYgHkj7cAyrDMxaa63l4mIXXnihez44p9GjR7sUfbJLreJz5cThPo/Hz7JBu6a6Z3NZuC7Z7gEhFidFKy0fz2rYsGG14HUuIPRsTy78lR6C0sQfVlttNRfH4mFnjBNK0fYkw63+gwSAYcOGOcVV17A985RKIAqxDyDegjCtKagLMR6IJhl4SB4hRtOkSZNwTeGQmeqFPLEhEnt69uzp4mZ0ZriX8oHtUTLHHXec2W677dygYeJ3hUI705GCVEMZOnfu7KbuIcmCDhIzvxCX5RoRLyPWRzITM5EkdV46ZIAWLfkseWMf3ILB7YCLB3dIPu6KKN5Nksv+uClw6dx2221B7969AyvE3LFz9e9nIknuQe9qytTu3sU1cODARXVL5d7ChTpt2rTACkn3G7x7MF52qv0pm2Pkcw/k4rrLBC5fjj927NigR48ezjVJvIi4kSfVMYjP+Vgc9xL7sy/xuLlz57r1kM/5R9sPV9pRRx3l9uX4ucB9h7tw/Pjxrmzu6bhbN4rcg6LSKcrS8uOzSBFmoGwh0CNlydTDJc0X9w/uEytk3MDcG2+80fVIIWpJ2HMyU6ZMcb17+7CGa7PDjB5kb9FzL2Qhu2xxgdXp5ylM126kYgNp4JncZnPmzHEu1ugMJflA2T7VnOtE+8eh7ELLj0Lqve2wOHcgM6dguZD6TgYe9yEWeCZwWfvsPTJWmTmfWViw1tPN52cFd8YJoaPtR+asn9A23XXBMsWKwgVJ1iPf8Qq0adPG1QeXOqns6dy6eDVo51xnLaFepN2numdzWch8JAQgRLlQlNLiwWceQVwrPHiFgN+cMVs8zOliCAgbBAOCKboNvn2EBK5JD2nNuM4QGqSApxKiqeAcEBjRmFw+y9FHHx2WtHjArYTLDeEXV85esBH/yWWaKDoNxcQtOAbHorNARyYK7Y8b75VXXgnXFA73yBNPPFFlaibqvfXWWzt3KPdSJtjWu+1QRrgG2Te6H/X1MS1AyXF9M+Hbj8+DDjrIPQs8F3G3rLVKXSyWMolvoZhQelGIcxFrww2eCsaG0UkkvpcLdCpQyvH7NdeFjiH1EaJcyFtp8VATZEY4MfEr8BDxQLI+VyXh8TNh0JvLFHs57LDDXNDcWw0IZsYLde3addF8hQgz5oVDiFIePd9yCyITv6OeCJ9i3rODpUXAnhkaiOf4uCCfWJkE/omZRGcoISBPWyGsGcgKCGg/kJVeOXVgAf/dX1vqyKevL3XleByDY1EuQi6qRBknxbUgtsh5sY9XbP4+8uXkAmO0GHwb3Z52ZMAzSSkexv1xTMZvUT7HYgyY71whiIm30U7eKgXahUHrWDL+XL1Vk639gKQOxutzTegE0XbAc0GHCgXpvRLUm0QSvw1w/zLYnCmbUkFnjDr4wfmiMuHeYVlc8LzhcYh3kGsF+zDlxaRJk1wcAL99fCHFPToeJ1eIUflU4FQQb7ACOmjdunUwZMgQF89hbJftwVdJFybWQbzHChK3bTyVuRywwt7FsVK1H0uq+FY8puWxN5Ibo8QwgFatWrlhBnzym/X8H8e3JeOiGDtnOwKL4jk+DhRfnnnmGRdvia+Pjo+L1oWy27ZtG1irI+jfv39gFZ/bhvPi/DKVkwnqx5gvyuQ4w4YNc/VifBj3ZRTqQ5yocePGrk0413HjxlVpE8aHde7c2dV30KBBQd++fd3YNuKmHIO6cTxS6j2Z2s9DnIo2YwgIx+e68J30f/vQu21oC8alDR482P3P9aUOPAdW4aW8duzL+TKOLHrfi7qL7dRVGRMJyFhkbaHyNhu2Y1Tt/vJyn3u4tin6fVqlgF4rcapLL73UtGzZMlxbHXqg9EpJ56b3my6NfuzYseapp55y7x7K1fdfzuTyPi3fNqREp5qVJAqXHKvDCkaXveOnNSoFvmysqlzqkg8+Loa1jVXOwj1glUtai5p9sMqxklKl1NMGWFR8RuvLb3qVqaz1XNsvWnb8+LQPi7dwqSPlZCqPLEPiTMwGwhRbou6DpwK3M+53DyES5BvPPPdBqYYTAfc2s7106NChitscjxBTueEBwJtQm5ROWhUB7hWUFXPFRV0lcRAgNCTpwukuFIIGFxKuH4RBruO0ko5vm1yUBEIY4Ug7llJhgS8717rkA8rKu4dRAByDY2VyAbM926VSWMD5+/F50fqyng5PqrJzbb9o2fHjc/96l6KvY7bymL8TdzpTaiUJnkmSQRhSIHIHBcI1j4MSs5a7G69aSoUFKCefrBSF5KAePXrUusKCkkyYWyw0PNlbjGEhDrH22muH/+QPMQZ6BPRISUZAuBBzSzKM/Uk3Ya6oDLDsyDZkTNqee+6ZUVGXA8Q/6DySVUsGIkkd1LuS7mEsbGKmxN7JbKVzgmyLXzue7zFjxlSZAJx9SToaOnSoi9ViVfEfcpK2xTtFfJNB6ljsxJjppHOfYN3TuSFWy38oITpgjKOcNWuWOxbeG7ZHNnrFR+z3+uuvd4PhmdyZSQHYDyWJ8mQiahKHook5GBlsz/Vle/7zEz34ehK3JrGIDG2Sjzg36l3oPVwWlhaQetyuXTt3k2eytrJB43DReWC4QGQFCpF0EGhYYR07dix7hQV0HhFwTD7cp0+fcG3pwHJDIZQzJNlgE2ARMSny6NGj3WTWKBLAkmKbgQMHOsuJZDPOi2EdKB+uc6qEG5QNIRDKQlaiBMjcJcTChNJeftI+vB3dJw2R0coxeFs6w3v4zYTOWMLAJAEok1SgeJiY3CffAZNkU3cU2ymnnOJkOL+9pebrScYsk0OjSJnJBkVczGuDykZpoc1pSBqcLCsuaCHQE2G8CxfnmGOOKbn5LMTihh4rU6Sdeuqpaad3KjcQwggylBZuz1JDPDPdEJlygWnQGFKBG5g26NKli3ulks9WZcgQSoqZUMjAxQXHbC9YK2TD4nViHR1vFI0fA8gbLnhhrgel4d2FgAxEnjJ+kvGtyEK2wcojNsZ33NUYCSg2puEDyudYHJNjc0zqgeW0zz77mJ133tltB8hplCZWIENvOB7feTs9uQQoQupJGSgx6kfWK6GgHXfc0b2KqFDKRmkBmpieCb0GegGFghmeLdaRJDDrvcktKgt6uATGed2KF1pi8YNwJyaXbcFN5pUpsUdeeYOCZZiG/8//7+NVPhyC/OPVTYz1ywYx0DhMATZjxgzXyQG+RxM4UBhYPMRucdNhBeHSy0X5I1OjnQ+sLOY/jbs7Ub4Mw8HL5UF5+3GFbJspbpsLZaW0gF4AD2i0sSsdejj0skXlQa8Z90p0DJooPbjs6CwzEB7rh5iPd+MBbq2+fftmXdq3b++sDkBwH3nkkS7GjussnvFJNijhDDrYmUDp5QJKCbnJC1Hp7KBYovF83H9kno4YMcLFrLDMUrkDcetlC9EQX/NuxTgoQv6vKcpOaQkhxOKCMARxmv3339+9wBSXFi5N3lJN4kuhLkhiUrzlumnTps5NyvRz3sJAIRDzw32HYvGD+YH6oKSi4ZG5c+e6TxLVotvGwRuD2xAL6Mknn3Qv2/UeGhQR5+OtOWaQ8aETzpH6+HMlIYMhGByLY6YCNzUdqnj7UHfaMN1b2EuBlJYQoiLxiRBkGjPTP+NEsVSI65A4gUuQFPBCQOijkBDe3n3Gb+A/3HO4D7GOmMHGW3VYSExZR3IFSi6qWCBbjN7PA0peQDQJDaWFBYRlh6sPyDJEIfIfiWt8YiV6SxHl6odlxCFBBCuSMI63uDgHMgk7deq06C0TNUFZpLwLIeouBPoRos2bNy9ZyjuDbomVFDMvIgKXdHymfWOKOC+gUWYoFYQ3r0MqJAZDmAO3HxM6Ux4KkPJRRlhBxK2IUZLwQKwLpYGFQ5YoGX/sj5XEsUlR9+nkWDFMED18+HA3nRhtSyKEjzcRryL9ndgSSRFeYaKocBWSmYgiJn0dhUUdsDDZFssMpcZQIVL0iY2RQEEZvLsO6xMXKhYY9WZ76jxy5EiXVMK0ZRyXBDjqTj2Z1o16Ml6WuBYxPl8OKfAMg0inGNNRFjNiCCHqLgT8EWSDBg3KOKtLFNxMCLt0sRUEJHGidMkpWDhYHdEkgSiUi5sMgUu2G/EdhDhuMmJCTGhMfx4XWDFgfWBZ4ZZDcaC0WOIWE+OwsKZSze5CW7BProP1sZjAW1RRKAcLC6VCBiHinzpG34XHOtybKJNUZcSJn2NNI/egEKLiwFVH9h7WBynoWCATJkxwAh/ri2SMYhUWoJywgrwwj7r8oqCQ0mU8o1xyVVjAsdIpD45PffwMLRwv/vJW1lGXXBVQ/BxrGllaQogapRBLKxtkVOLSKjTLmLFD3bt3dynbuPBSpZCL8kSWlhCiYiH121sdIhlIaQkhKg4sKzLg4inbHmI0jGfKlGIuagcpLSFEySF5AIFPCjeZb0ACAL9ZT+JBbYLSYrAvg4jJlvMQLSEZo1+/fm4KJrLpRHmhmJYQouT4OFY6io1vFRvTAhQrU2QxryODcklAIDWdrENS4EnfFuWHlJYQInGUQml5UF4swPioxZUFJwpD7kEhROIgecLP3FAslIW7kEUKq/yRpSWEECIxyNISQgiRGKS0hBBCJAYpLSGEEIlBSksIIURikNISQgiRGKS0hBBCJAYpLSGEEIlBSksIIURikNISQgiRGKS0hBBCJAYpLSGEEIlBSksIIURikNISQgiRGKS0hBBCJAYpLSGEEAnBmP8DQYG/hbDT+jYAAAAASUVORK5CYII=)\n",
        "\n",
        "# Gibbs Sampling\n",
        "\n",
        "Gibbs Sampling is a type of Markov Chain Monte Carlo (MCMC) algorithm used to generate samples from a probability distribution, especially when direct sampling is difficult. It's widely used in probabilistic models, including Boltzmann Machines, to update the states of units and estimate complex distributions.\n",
        "\n"
      ],
      "metadata": {
        "id": "iVTS6Bchc_d7"
      }
    },
    {
      "cell_type": "code",
      "source": [],
      "metadata": {
        "id": "bAtg3_TQplri"
      },
      "execution_count": null,
      "outputs": []
    }
  ]
}