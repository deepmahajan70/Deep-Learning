{
  "nbformat": 4,
  "nbformat_minor": 0,
  "metadata": {
    "colab": {
      "provenance": []
    },
    "kernelspec": {
      "name": "python3",
      "display_name": "Python 3"
    },
    "language_info": {
      "name": "python"
    }
  },
  "cells": [
    {
      "cell_type": "code",
      "execution_count": null,
      "metadata": {
        "colab": {
          "base_uri": "https://localhost:8080/"
        },
        "id": "bjczJd6ThS9G",
        "outputId": "c8f87e0d-ea74-4169-82a5-5456407dac5e"
      },
      "outputs": [
        {
          "output_type": "stream",
          "name": "stdout",
          "text": [
            "1\n"
          ]
        }
      ],
      "source": [
        "import numpy as np\n",
        "\n",
        "x = np.array([1,1])\n",
        "w = np.array([1,1])\n",
        "b = -1.5\n",
        "\n",
        "def perceptron(x,w,b):\n",
        "  v= np.dot(x,w) + b\n",
        "  if(v>=0):\n",
        "    return 1\n",
        "  else:\n",
        "    return 0\n",
        "print(perceptron(x,w,b))\n",
        "\n"
      ]
    },
    {
      "cell_type": "code",
      "source": [
        "def test_and_perceptron(b, w1=1, w2=1):\n",
        "    # Define the AND gate inputs and their expected outputs\n",
        "    inputs = np.array([\n",
        "        [0, 0],\n",
        "        [0, 1],\n",
        "        [1, 0],\n",
        "        [1, 1]\n",
        "    ])\n",
        "\n",
        "    expected_outputs = np.array([0, 0, 0, 1])\n",
        "\n",
        "    # Test the perceptron for each input\n",
        "    for x, expected in zip(inputs, expected_outputs):\n",
        "        result = np.dot(x, [w1, w2]) + b > 0\n",
        "        if result != expected:\n",
        "            return False  # If any result does not match, return False\n",
        "    return True  # If all results match, return True\n",
        "\n",
        "def find_bias():\n",
        "    # Try different values of bias\n",
        "    for b in np.arange(-2.0, 0.0, 0.1):\n",
        "        if test_and_perceptron(b):\n",
        "            return b\n",
        "    return None\n",
        "\n",
        "# Find and print the suitable bias value\n",
        "bias = find_bias()\n",
        "print(f\"The suitable bias value for the AND perceptron is: {bias}\")"
      ],
      "metadata": {
        "id": "QRXlagszlnIH",
        "outputId": "afecbdd0-da07-4605-c48c-3f2ec25b73fd",
        "colab": {
          "base_uri": "https://localhost:8080/"
        }
      },
      "execution_count": null,
      "outputs": [
        {
          "output_type": "stream",
          "name": "stdout",
          "text": [
            "The suitable bias value for the AND perceptron is: -1.9\n"
          ]
        }
      ]
    }
  ]
}