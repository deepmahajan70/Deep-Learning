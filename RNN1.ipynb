{
  "cells": [
    {
      "cell_type": "markdown",
      "metadata": {
        "id": "view-in-github",
        "colab_type": "text"
      },
      "source": [
        "<a href=\"https://colab.research.google.com/github/deepmahajan70/Deep-Learning/blob/main/RNN1.ipynb\" target=\"_parent\"><img src=\"https://colab.research.google.com/assets/colab-badge.svg\" alt=\"Open In Colab\"/></a>"
      ]
    },
    {
      "cell_type": "markdown",
      "id": "a09fb8a5",
      "metadata": {
        "id": "a09fb8a5"
      },
      "source": [
        "|    Review                |   Sentiment  |\n",
        "|__________________________|______________|\n",
        "|    Food was good         |      1       |\n",
        "|    Food was bad          |      0       |\n",
        "|    Food was not good     |      0       |\n",
        "|__________________________|______________|\n",
        "\n",
        "5 Unique words --> [Food, was, good, bad, not] --> [[1,0,0,0,0],[0,1,0,0,0],[0,0,1,0,0],[0,0,0,1,0],[0,0,0,0,1]]\n",
        "4 timesteps --> max. lenght input sentence --> Food was not good\n",
        "So, input_shape(timesteps, # of input feature) --> (4,5)\n",
        "\n",
        "Data will be fed to RNN on timestep basis -\n",
        "\n",
        "@ Input Layer: 5 nodes\n",
        "\n",
        "t= 1:(3,5)--> [[Food][was][good]] -------> [[1,0,0,0,0],[0,1,0,0,0],[0,0,1,0,0]] --------------> [[X11],[X12],[X13]]\n",
        "t= 2:(3,5)--> [[Food][was][bad]]  -------> [[1,0,0,0,0],[0,1,0,0,0],[0,0,0,1,0]] - ------------> [[X21],[X22],[X23]]\n",
        "t= 3:(4,5)--> [[Food][was][not][good]] --> [[1,0,0,0,0],[0,1,0,0,0],[0,0,0,0,1],[0,0,1,0,0]] --> [[X31],[X32],[X33],[X34]]\n",
        "\n",
        "@ Hidden Layer: 3 nodes\n",
        "t=1:(3,3) --> [0,0,0] or [Random Value,Random Value,Random Value] --> Initial\n",
        "t=2:(3,3) --> [ , , ] --> calculated based on earlier phase\n",
        "t=3:(3,3) --> [ , , ] --> calculated based on earlier phase\n",
        "\n",
        "weights between input and hidden layer        => 5x3 = 15\n",
        "weights between hidden layer with itself      => 3x3 =  9\n",
        "weights between hidden layer and output layer => 3x1 =  3\n",
        "                                        TOTAL =>       27\n",
        "3 bais at hidden layer, 1 at output layer     => 3+1 =  4\n",
        "         TOTAL LEARNABLE PARAMETERS           => 27+4 =31"
      ]
    },
    {
      "cell_type": "code",
      "execution_count": 1,
      "id": "c631d2c6",
      "metadata": {
        "id": "c631d2c6"
      },
      "outputs": [],
      "source": [
        "from keras import Sequential\n",
        "from keras.layers import Dense,SimpleRNN"
      ]
    },
    {
      "cell_type": "code",
      "execution_count": 2,
      "id": "2d79fc6e",
      "metadata": {
        "colab": {
          "base_uri": "https://localhost:8080/"
        },
        "id": "2d79fc6e",
        "outputId": "eab967e6-b250-4238-e0f0-5e7ce268d133"
      },
      "outputs": [
        {
          "output_type": "stream",
          "name": "stdout",
          "text": [
            "Model: \"sequential\"\n",
            "_________________________________________________________________\n",
            " Layer (type)                Output Shape              Param #   \n",
            "=================================================================\n",
            " simple_rnn (SimpleRNN)      (None, 3)                 27        \n",
            "                                                                 \n",
            " dense (Dense)               (None, 1)                 4         \n",
            "                                                                 \n",
            "=================================================================\n",
            "Total params: 31 (124.00 Byte)\n",
            "Trainable params: 31 (124.00 Byte)\n",
            "Non-trainable params: 0 (0.00 Byte)\n",
            "_________________________________________________________________\n"
          ]
        }
      ],
      "source": [
        "model = Sequential()\n",
        "model.add(SimpleRNN(3,input_shape=(4,5)))\n",
        "model.add(Dense(1,activation ='sigmoid'))\n",
        "\n",
        "model.summary()"
      ]
    },
    {
      "cell_type": "code",
      "execution_count": 3,
      "id": "12f9ded9",
      "metadata": {
        "colab": {
          "base_uri": "https://localhost:8080/"
        },
        "id": "12f9ded9",
        "outputId": "f3e2a3be-8de7-403a-d6b2-4cda7791f0b9"
      },
      "outputs": [
        {
          "output_type": "stream",
          "name": "stdout",
          "text": [
            "(5, 3)\n"
          ]
        }
      ],
      "source": [
        "print(model.get_weights()[0].shape)"
      ]
    },
    {
      "cell_type": "code",
      "execution_count": 4,
      "id": "227e21a5",
      "metadata": {
        "colab": {
          "base_uri": "https://localhost:8080/"
        },
        "id": "227e21a5",
        "outputId": "8da949e2-bf6c-41f6-ebc1-0fe6cb7ae841"
      },
      "outputs": [
        {
          "output_type": "execute_result",
          "data": {
            "text/plain": [
              "array([[ 0.328327  ,  0.24466854,  0.10174233],\n",
              "       [-0.8519026 ,  0.44069117, -0.49280003],\n",
              "       [ 0.16280383,  0.72702414, -0.28302544],\n",
              "       [ 0.52287143,  0.29876167, -0.581192  ],\n",
              "       [-0.77962136,  0.21064824, -0.23773068]], dtype=float32)"
            ]
          },
          "metadata": {},
          "execution_count": 4
        }
      ],
      "source": [
        "model.get_weights()[0]"
      ]
    },
    {
      "cell_type": "code",
      "execution_count": 5,
      "id": "7b721706",
      "metadata": {
        "colab": {
          "base_uri": "https://localhost:8080/"
        },
        "id": "7b721706",
        "outputId": "54d84e6a-8efb-449c-cf0e-f0854c56891a"
      },
      "outputs": [
        {
          "output_type": "stream",
          "name": "stdout",
          "text": [
            "(3, 3)\n"
          ]
        },
        {
          "output_type": "execute_result",
          "data": {
            "text/plain": [
              "array([[-0.9721075 , -0.00386522,  0.23450358],\n",
              "       [ 0.17657848, -0.6701232 ,  0.7209404 ],\n",
              "       [-0.15435968, -0.74223995, -0.6521142 ]], dtype=float32)"
            ]
          },
          "metadata": {},
          "execution_count": 5
        }
      ],
      "source": [
        "print(model.get_weights()[1].shape)\n",
        "model.get_weights()[1]"
      ]
    },
    {
      "cell_type": "code",
      "execution_count": 6,
      "id": "a98814f0",
      "metadata": {
        "colab": {
          "base_uri": "https://localhost:8080/"
        },
        "id": "a98814f0",
        "outputId": "28e74ac8-77fc-489b-fc6b-f1754b10db14"
      },
      "outputs": [
        {
          "output_type": "stream",
          "name": "stdout",
          "text": [
            "(3,)\n"
          ]
        },
        {
          "output_type": "execute_result",
          "data": {
            "text/plain": [
              "array([0., 0., 0.], dtype=float32)"
            ]
          },
          "metadata": {},
          "execution_count": 6
        }
      ],
      "source": [
        "print(model.get_weights()[2].shape)\n",
        "model.get_weights()[2]"
      ]
    },
    {
      "cell_type": "code",
      "execution_count": 9,
      "id": "4149662e",
      "metadata": {
        "colab": {
          "base_uri": "https://localhost:8080/"
        },
        "id": "4149662e",
        "outputId": "02e45583-d584-4124-fdb5-9dfd4b2929a2"
      },
      "outputs": [
        {
          "output_type": "stream",
          "name": "stdout",
          "text": [
            "(3, 1)\n"
          ]
        },
        {
          "output_type": "execute_result",
          "data": {
            "text/plain": [
              "array([[-0.65552276],\n",
              "       [-1.1265677 ],\n",
              "       [ 1.1790248 ]], dtype=float32)"
            ]
          },
          "metadata": {},
          "execution_count": 9
        }
      ],
      "source": [
        "print(model.get_weights()[3].shape)\n",
        "model.get_weights()[3]"
      ]
    },
    {
      "cell_type": "code",
      "execution_count": 8,
      "id": "b69a0054",
      "metadata": {
        "colab": {
          "base_uri": "https://localhost:8080/"
        },
        "id": "b69a0054",
        "outputId": "32478aba-ec0e-4bce-8656-8d5342b10c12"
      },
      "outputs": [
        {
          "output_type": "stream",
          "name": "stdout",
          "text": [
            "(1,)\n"
          ]
        },
        {
          "output_type": "execute_result",
          "data": {
            "text/plain": [
              "array([0.], dtype=float32)"
            ]
          },
          "metadata": {},
          "execution_count": 8
        }
      ],
      "source": [
        "print(model.get_weights()[4].shape)\n",
        "model.get_weights()[4]"
      ]
    },
    {
      "cell_type": "code",
      "execution_count": 7,
      "id": "4232d8fa",
      "metadata": {
        "id": "4232d8fa"
      },
      "outputs": [],
      "source": []
    }
  ],
  "metadata": {
    "kernelspec": {
      "display_name": "Python 3 (ipykernel)",
      "language": "python",
      "name": "python3"
    },
    "language_info": {
      "codemirror_mode": {
        "name": "ipython",
        "version": 3
      },
      "file_extension": ".py",
      "mimetype": "text/x-python",
      "name": "python",
      "nbconvert_exporter": "python",
      "pygments_lexer": "ipython3",
      "version": "3.8.16"
    },
    "colab": {
      "provenance": [],
      "include_colab_link": true
    }
  },
  "nbformat": 4,
  "nbformat_minor": 5
}